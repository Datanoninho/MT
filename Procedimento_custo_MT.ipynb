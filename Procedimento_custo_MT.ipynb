{
  "nbformat": 4,
  "nbformat_minor": 0,
  "metadata": {
    "kernelspec": {
      "name": "python3",
      "display_name": "Python 3.7",
      "language": "python"
    },
    "language_info": {
      "name": "python",
      "version": "3.7.9",
      "mimetype": "text/x-python",
      "codemirror_mode": {
        "name": "ipython",
        "version": 3
      },
      "pygments_lexer": "ipython3",
      "nbconvert_exporter": "python",
      "file_extension": ".py"
    },
    "colab": {
      "name": "Procedimento_custo MT.ipynb",
      "provenance": [],
      "collapsed_sections": [
        "c2iD15nw8Aat",
        "YnyFAEv58x0q",
        "CBSkFldB-Iq6",
        "7Sx9K2YB-DGt",
        "CGb-wqTB-UgJ",
        "g_SmTwoZ-gnZ",
        "f8iqYgHC7DTR"
      ],
      "toc_visible": true
    }
  },
  "cells": [
    {
      "cell_type": "markdown",
      "metadata": {
        "id": "c2iD15nw8Aat"
      },
      "source": [
        "## Importação das LIBS"
      ]
    },
    {
      "cell_type": "code",
      "metadata": {
        "id": "JVLfX4Mb8DFi"
      },
      "source": [
        "#Importando as bibliotecas\r\n",
        "import types\r\n",
        "import pandas as pd"
      ],
      "execution_count": 1,
      "outputs": []
    },
    {
      "cell_type": "markdown",
      "metadata": {
        "id": "YnyFAEv58x0q"
      },
      "source": [
        "## Importação dos DATASET"
      ]
    },
    {
      "cell_type": "code",
      "metadata": {
        "id": "WfODeGDV20C0"
      },
      "source": [
        "#Lendo os arquivos .CSV\n",
        "df_codigo = pd.read_csv('codigo.csv', sep=';')\n",
        "df_procedimento = pd.read_csv('procedimento.csv', sep=';')\n",
        "df_DP = pd.read_csv('DPMT_M625.csv')\n",
        "df_w0 = pd.read_csv('DPMT_w0.csv')\n",
        "df_w1 = pd.read_csv('DPMT_w1.csv')\n",
        "df_DS = pd.read_csv('DSMT_M625.csv')"
      ],
      "execution_count": 2,
      "outputs": []
    },
    {
      "cell_type": "markdown",
      "metadata": {
        "id": "CBSkFldB-Iq6"
      },
      "source": [
        "## Mostrando o tamanha de cada dataset\r\n"
      ]
    },
    {
      "cell_type": "code",
      "metadata": {
        "colab": {
          "base_uri": "https://localhost:8080/"
        },
        "id": "DlNyGjBk9Cz3",
        "outputId": "ae58dd71-b6b5-4311-dc8f-999655c1871a"
      },
      "source": [
        "# Tamanho do dataset codigo\r\n",
        "df_codigo.shape"
      ],
      "execution_count": 3,
      "outputs": [
        {
          "output_type": "execute_result",
          "data": {
            "text/plain": [
              "(115, 4)"
            ]
          },
          "metadata": {
            "tags": []
          },
          "execution_count": 3
        }
      ]
    },
    {
      "cell_type": "code",
      "metadata": {
        "colab": {
          "base_uri": "https://localhost:8080/"
        },
        "id": "j6m4iU7t9JXd",
        "outputId": "27319f65-96ee-4f55-9093-4201b029bd83"
      },
      "source": [
        "# Tamanho do dataset procedimento\r\n",
        "df_procedimento.shape"
      ],
      "execution_count": 4,
      "outputs": [
        {
          "output_type": "execute_result",
          "data": {
            "text/plain": [
              "(1874, 2)"
            ]
          },
          "metadata": {
            "tags": []
          },
          "execution_count": 4
        }
      ]
    },
    {
      "cell_type": "code",
      "metadata": {
        "colab": {
          "base_uri": "https://localhost:8080/"
        },
        "id": "XHNuyWug9Jem",
        "outputId": "817160f2-5c34-4b4e-ade9-962d2c041792"
      },
      "source": [
        "# Tamanho do dataset DP\r\n",
        "df_DP.shape"
      ],
      "execution_count": 5,
      "outputs": [
        {
          "output_type": "execute_result",
          "data": {
            "text/plain": [
              "(2, 8)"
            ]
          },
          "metadata": {
            "tags": []
          },
          "execution_count": 5
        }
      ]
    },
    {
      "cell_type": "code",
      "metadata": {
        "colab": {
          "base_uri": "https://localhost:8080/"
        },
        "id": "YsDA7tIB9JmR",
        "outputId": "17781037-828e-4454-8e00-aef14a77026e"
      },
      "source": [
        "# Tamanho do dataset w0\r\n",
        "df_w0.shape"
      ],
      "execution_count": 6,
      "outputs": [
        {
          "output_type": "execute_result",
          "data": {
            "text/plain": [
              "(6, 8)"
            ]
          },
          "metadata": {
            "tags": []
          },
          "execution_count": 6
        }
      ]
    },
    {
      "cell_type": "code",
      "metadata": {
        "colab": {
          "base_uri": "https://localhost:8080/"
        },
        "id": "BBPU6c6_9Jun",
        "outputId": "c4d109f5-3cae-4213-cfce-d9b4ae1a7e6c"
      },
      "source": [
        "# Tamanho do dataset w1\r\n",
        "df_w1.shape"
      ],
      "execution_count": 7,
      "outputs": [
        {
          "output_type": "execute_result",
          "data": {
            "text/plain": [
              "(18, 8)"
            ]
          },
          "metadata": {
            "tags": []
          },
          "execution_count": 7
        }
      ]
    },
    {
      "cell_type": "code",
      "metadata": {
        "colab": {
          "base_uri": "https://localhost:8080/"
        },
        "id": "WQzuyq4t9KBM",
        "outputId": "817ab76f-e6d2-4479-bcd4-728368ecad9d"
      },
      "source": [
        "# Tamanho do dataset DS\r\n",
        "df_DS.shape"
      ],
      "execution_count": 8,
      "outputs": [
        {
          "output_type": "execute_result",
          "data": {
            "text/plain": [
              "(0, 8)"
            ]
          },
          "metadata": {
            "tags": []
          },
          "execution_count": 8
        }
      ]
    },
    {
      "cell_type": "markdown",
      "metadata": {
        "id": "7Sx9K2YB-DGt"
      },
      "source": [
        "## Limpeza dos DADOS\r\n"
      ]
    },
    {
      "cell_type": "code",
      "metadata": {
        "id": "_1piGD-220C6"
      },
      "source": [
        "#Trocando a nomeclatura da coluna 'Código' para 'codigo'\n",
        "df_procedimento.rename(columns={'Código':'codigo'}, inplace=True)\n",
        "df_DP.rename(columns={'PROC_REA':'codigo'}, inplace=True)\n",
        "#Trocando a nomeclatura da coluna 'Código' para 'codigo'\n",
        "df_procedimento.rename(columns={'Código':'codigo'}, inplace=True)\n",
        "df_w0.rename(columns={'PROC_REA':'codigo'}, inplace=True)\n",
        "#Trocando a nomeclatura da coluna 'Código' para 'codigo'\n",
        "df_procedimento.rename(columns={'Código':'codigo'}, inplace=True)\n",
        "df_w1.rename(columns={'PROC_REA':'codigo'}, inplace=True)\n",
        "#Trocando a nomeclatura da coluna 'Código' para 'codigo'\n",
        "df_procedimento.rename(columns={'Código':'codigo'}, inplace=True)\n",
        "df_DS.rename(columns={'PROC_REA':'codigo'}, inplace=True)"
      ],
      "execution_count": 9,
      "outputs": []
    },
    {
      "cell_type": "code",
      "metadata": {
        "id": "qWEndTFH20DS"
      },
      "source": [
        "#Merge foi utilizado para unir as tabelas conforme a coluna 'procedimento'\n",
        "df_merge_DP = pd.merge(df_DP,df_procedimento, on='codigo')\n",
        "df_merge_w0 = pd.merge(df_w0,df_procedimento, on='codigo')\n",
        "df_merge_w1 = pd.merge(df_w1,df_procedimento, on='codigo')\n",
        "df_merge_DS = pd.merge(df_DS,df_procedimento, on='codigo')"
      ],
      "execution_count": 10,
      "outputs": []
    },
    {
      "cell_type": "code",
      "metadata": {
        "id": "3916pfRH20DU"
      },
      "source": [
        "#Merge foi utilizado para unir as tabelas conforme a coluna 'codigo'\n",
        "df_merge_DP = pd.merge(df_merge_DP,df_codigo, on='codigo')\n",
        "df_merge_w0 = pd.merge(df_merge_w0,df_codigo, on='codigo')\n",
        "df_merge_w1 = pd.merge(df_merge_w1,df_codigo, on='codigo')\n",
        "df_merge_DS = pd.merge(df_merge_DS,df_codigo, on='codigo')"
      ],
      "execution_count": 11,
      "outputs": []
    },
    {
      "cell_type": "code",
      "metadata": {
        "id": "1C-Sfeu120DV"
      },
      "source": [
        "df_merge_DP['Serviço Hospitalar '] = df_merge_DP['Serviço Hospitalar '].str.replace('.','')#alterando de . para ,\n",
        "df_merge_w0['Serviço Hospitalar '] = df_merge_w0['Serviço Hospitalar '].str.replace('.','')#alterando de . para ,\n",
        "df_merge_w1['Serviço Hospitalar '] = df_merge_w1['Serviço Hospitalar '].str.replace('.','')#alterando de . para ,\n",
        "df_merge_DS['Serviço Hospitalar '] = df_merge_DS['Serviço Hospitalar '].str.replace('.','')#alterando de . para ,"
      ],
      "execution_count": 12,
      "outputs": []
    },
    {
      "cell_type": "code",
      "metadata": {
        "id": "5t6SgdRl20EE"
      },
      "source": [
        "df_merge_DP['Serviço Hospitalar '] = df_merge_DP['Serviço Hospitalar '].str.replace(',','.').astype(float)#trocando de object para float\n",
        "df_merge_w0['Serviço Hospitalar '] = df_merge_w0['Serviço Hospitalar '].str.replace(',','.').astype(float)#trocando de object para float\n",
        "df_merge_w1['Serviço Hospitalar '] = df_merge_w1['Serviço Hospitalar '].str.replace(',','.').astype(float)#trocando de object para float\n",
        "df_merge_DS['Serviço Hospitalar '] = df_merge_DS['Serviço Hospitalar '].str.replace(',','.').astype(float)#trocando de object para float"
      ],
      "execution_count": 13,
      "outputs": []
    },
    {
      "cell_type": "code",
      "metadata": {
        "id": "-Qe6-xjZ20EE"
      },
      "source": [
        "df_merge_DP['Serviço Profissional'] = df_merge_DP['Serviço Profissional'].str.replace(',','.').astype(float)#trocando de object para float\n",
        "df_merge_w0['Serviço Profissional'] = df_merge_w0['Serviço Profissional'].str.replace(',','.').astype(float)#trocando de object para float\n",
        "df_merge_w1['Serviço Profissional'] = df_merge_w1['Serviço Profissional'].str.replace(',','.').astype(float)#trocando de object para float\n",
        "df_merge_DS['Serviço Profissional'] = df_merge_DS['Serviço Profissional'].str.replace(',','.').astype(float)#trocando de object para float"
      ],
      "execution_count": 14,
      "outputs": []
    },
    {
      "cell_type": "code",
      "metadata": {
        "id": "IFb1myst20EF"
      },
      "source": [
        "df_merge_DP['Total Hospitalar '] = df_merge_DP['Total Hospitalar '].str.replace('.','')#alterando de . para ,\n",
        "df_merge_w0['Total Hospitalar '] = df_merge_w0['Total Hospitalar '].str.replace('.','')#alterando de . para ,\n",
        "df_merge_w1['Total Hospitalar '] = df_merge_w1['Total Hospitalar '].str.replace('.','')#alterando de . para ,\n",
        "df_merge_DS['Total Hospitalar '] = df_merge_DS['Total Hospitalar '].str.replace('.','')#alterando de . para ,"
      ],
      "execution_count": 15,
      "outputs": []
    },
    {
      "cell_type": "code",
      "metadata": {
        "id": "vj8bKk9Y20EG"
      },
      "source": [
        "df_merge_DP['Total Hospitalar '] = df_merge_DP['Total Hospitalar '].str.replace(',','.').astype(float)#trocando de object para float\n",
        "df_merge_w0['Total Hospitalar '] = df_merge_w0['Total Hospitalar '].str.replace(',','.').astype(float)#trocando de object para float\n",
        "df_merge_w1['Total Hospitalar '] = df_merge_w1['Total Hospitalar '].str.replace(',','.').astype(float)#trocando de object para float\n",
        "df_merge_DS['Total Hospitalar '] = df_merge_DS['Total Hospitalar '].str.replace(',','.').astype(float)#trocando de object para float"
      ],
      "execution_count": 16,
      "outputs": []
    },
    {
      "cell_type": "markdown",
      "metadata": {
        "id": "CGb-wqTB-UgJ"
      },
      "source": [
        "## Criando a coluna 'Valor_Total_DIAS_PERM'"
      ]
    },
    {
      "cell_type": "code",
      "metadata": {
        "id": "DXGjsw-n20EG"
      },
      "source": [
        "novacoluna_DP = df_merge_DP['DIAS_PERM']*df_merge_DP['Total Hospitalar ']# calculando o total de dias com o total do valor por dia\n",
        "novacoluna_w0 = df_merge_w0['DIAS_PERM']*df_merge_w0['Total Hospitalar ']# calculando o total de dias com o total do valor por dia\n",
        "novacoluna_w1 = df_merge_w1['DIAS_PERM']*df_merge_w1['Total Hospitalar ']# calculando o total de dias com o total do valor por dia\n",
        "novacoluna_DS = df_merge_DS['DIAS_PERM']*df_merge_DS['Total Hospitalar ']# calculando o total de dias com o total do valor por dia"
      ],
      "execution_count": 17,
      "outputs": []
    },
    {
      "cell_type": "code",
      "metadata": {
        "id": "-eE4TyrP20EH"
      },
      "source": [
        "df_merge_DP.insert(loc=12, column='Valor_Total_DIAS_PERM', value=novacoluna_DP)#Criando uma nova coluna com o nome Total_DIAS_PERM\n",
        "df_merge_w0.insert(loc=12, column='Valor_Total_DIAS_PERM', value=novacoluna_w0)#Criando uma nova coluna com o nome Total_DIAS_PERM\n",
        "df_merge_w1.insert(loc=12, column='Valor_Total_DIAS_PERM', value=novacoluna_w1)#Criando uma nova coluna com o nome Total_DIAS_PERM\n",
        "df_merge_DS.insert(loc=12, column='Valor_Total_DIAS_PERM', value=novacoluna_DS)#Criando uma nova coluna com o nome Total_DIAS_PERM"
      ],
      "execution_count": 19,
      "outputs": []
    },
    {
      "cell_type": "markdown",
      "metadata": {
        "id": "g_SmTwoZ-gnZ"
      },
      "source": [
        "##Concatenando um dataset em baixo do outro"
      ]
    },
    {
      "cell_type": "code",
      "metadata": {
        "id": "5V471kFT20Eo"
      },
      "source": [
        "#Colocando todos dataframe um em baixo do outro\r\n",
        "df = pd.concat([df_merge_DP, df_merge_w0,df_merge_w1,df_merge_DS])"
      ],
      "execution_count": 20,
      "outputs": []
    },
    {
      "cell_type": "code",
      "metadata": {
        "id": "BU3WM1FA20Ep"
      },
      "source": [
        "#Colocando todos dataframe em um unico dataframe\r\n",
        "df_teste = pd.DataFrame(df[['DIAG_PRINC','Procedimento ','Total Hospitalar ']])"
      ],
      "execution_count": 21,
      "outputs": []
    },
    {
      "cell_type": "code",
      "metadata": {
        "id": "1C5uPbQo20Ep"
      },
      "source": [
        "#Agrumando pela colunas 'DIAG_PRINC' e 'Procedimento '\r\n",
        "df_grp = df_teste.groupby(['DIAG_PRINC','Procedimento '], as_index=False).sum()"
      ],
      "execution_count": 22,
      "outputs": []
    },
    {
      "cell_type": "markdown",
      "metadata": {
        "id": "f8iqYgHC7DTR"
      },
      "source": [
        "## *Mostrando na tela o resultado*\r\n",
        "\r\n",
        "> Bloco com avanço\r\n",
        "\r\n"
      ]
    },
    {
      "cell_type": "code",
      "metadata": {
        "colab": {
          "base_uri": "https://localhost:8080/",
          "height": 348
        },
        "id": "Bk_u9gtR20Ep",
        "outputId": "62d72801-900a-4059-eedf-0f51fac5ab34"
      },
      "source": [
        "#Monstrando as 30 primeiras linhas do dataframe\r\n",
        "df_grp.head(30)"
      ],
      "execution_count": 23,
      "outputs": [
        {
          "output_type": "execute_result",
          "data": {
            "text/html": [
              "<div>\n",
              "<style scoped>\n",
              "    .dataframe tbody tr th:only-of-type {\n",
              "        vertical-align: middle;\n",
              "    }\n",
              "\n",
              "    .dataframe tbody tr th {\n",
              "        vertical-align: top;\n",
              "    }\n",
              "\n",
              "    .dataframe thead th {\n",
              "        text-align: right;\n",
              "    }\n",
              "</style>\n",
              "<table border=\"1\" class=\"dataframe\">\n",
              "  <thead>\n",
              "    <tr style=\"text-align: right;\">\n",
              "      <th></th>\n",
              "      <th>DIAG_PRINC</th>\n",
              "      <th>Procedimento</th>\n",
              "      <th>Total Hospitalar</th>\n",
              "    </tr>\n",
              "  </thead>\n",
              "  <tbody>\n",
              "    <tr>\n",
              "      <th>0</th>\n",
              "      <td>M625</td>\n",
              "      <td>DIAGNOSTICO E/OU ATENDIMENTO DE URGENCIA EM CL...</td>\n",
              "      <td>44.22</td>\n",
              "    </tr>\n",
              "    <tr>\n",
              "      <th>1</th>\n",
              "      <td>M625</td>\n",
              "      <td>OUTROS PROCEDIMENTOS COM CIRURGIAS SEQUENCIAIS</td>\n",
              "      <td>0.00</td>\n",
              "    </tr>\n",
              "    <tr>\n",
              "      <th>2</th>\n",
              "      <td>W003</td>\n",
              "      <td>DIAGNOSTICO E/OU ATENDIMENTO DE URGENCIA EM CL...</td>\n",
              "      <td>44.22</td>\n",
              "    </tr>\n",
              "    <tr>\n",
              "      <th>3</th>\n",
              "      <td>W009</td>\n",
              "      <td>DIAGNOSTICO E/OU ATENDIMENTO DE URGENCIA EM CL...</td>\n",
              "      <td>44.22</td>\n",
              "    </tr>\n",
              "    <tr>\n",
              "      <th>4</th>\n",
              "      <td>W019</td>\n",
              "      <td>TRATAMENTO  DE TRAUMATISMOS DE LOCALIZACAO ESP...</td>\n",
              "      <td>199.33</td>\n",
              "    </tr>\n",
              "    <tr>\n",
              "      <th>5</th>\n",
              "      <td>W068</td>\n",
              "      <td>DIAGNOSTICO E/OU ATENDIMENTO DE URGENCIA EM CL...</td>\n",
              "      <td>44.22</td>\n",
              "    </tr>\n",
              "    <tr>\n",
              "      <th>6</th>\n",
              "      <td>W179</td>\n",
              "      <td>DIAGNOSTICO E/OU ATENDIMENTO DE URGENCIA EM CL...</td>\n",
              "      <td>44.22</td>\n",
              "    </tr>\n",
              "    <tr>\n",
              "      <th>7</th>\n",
              "      <td>W180</td>\n",
              "      <td>DIAGNOSTICO E/OU ATENDIMENTO DE URGENCIA EM CL...</td>\n",
              "      <td>44.22</td>\n",
              "    </tr>\n",
              "    <tr>\n",
              "      <th>8</th>\n",
              "      <td>W180</td>\n",
              "      <td>TRATAMENTO C/ CIRURGIAS MULTIPLAS</td>\n",
              "      <td>0.00</td>\n",
              "    </tr>\n",
              "    <tr>\n",
              "      <th>9</th>\n",
              "      <td>W199</td>\n",
              "      <td>DIAGNOSTICO E/OU ATENDIMENTO DE URGENCIA EM CL...</td>\n",
              "      <td>88.44</td>\n",
              "    </tr>\n",
              "  </tbody>\n",
              "</table>\n",
              "</div>"
            ],
            "text/plain": [
              "  DIAG_PRINC  ... Total Hospitalar \n",
              "0       M625  ...             44.22\n",
              "1       M625  ...              0.00\n",
              "2       W003  ...             44.22\n",
              "3       W009  ...             44.22\n",
              "4       W019  ...            199.33\n",
              "5       W068  ...             44.22\n",
              "6       W179  ...             44.22\n",
              "7       W180  ...             44.22\n",
              "8       W180  ...              0.00\n",
              "9       W199  ...             88.44\n",
              "\n",
              "[10 rows x 3 columns]"
            ]
          },
          "metadata": {
            "tags": []
          },
          "execution_count": 23
        }
      ]
    },
    {
      "cell_type": "code",
      "metadata": {
        "id": "9-9oNO4T-wG0"
      },
      "source": [
        ""
      ],
      "execution_count": 23,
      "outputs": []
    }
  ]
}